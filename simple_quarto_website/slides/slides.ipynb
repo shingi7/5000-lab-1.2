{
  "cells": [
    {
      "cell_type": "raw",
      "metadata": {},
      "source": [
        "---\n",
        "title: Habits\n",
        "author: Shingi Nindi\n",
        "format: revealjs\n",
        "theme: dark\n",
        "bibliography: ../references.bib\n",
        "---"
      ],
      "id": "40632d6c"
    },
    {
      "cell_type": "code",
      "metadata": {},
      "source": [
        "#| echo: true\n",
        "#| code-fold: true\n",
        "import matplotlib.pyplot as plt\n",
        "import numpy as np\n",
        "\n",
        "# Generate some sample data\n",
        "x = np.linspace(0, 10, 100)\n",
        "y = np.sin(x)\n",
        "\n",
        "# Create a plot\n",
        "plt.plot(x, y)\n",
        "plt.xlabel('X-axis')\n",
        "plt.ylabel('Y-axis')\n",
        "plt.title('Sample Plot')\n",
        "plt.show()"
      ],
      "id": "0bd4d3d8",
      "execution_count": null,
      "outputs": []
    }
  ],
  "metadata": {
    "kernelspec": {
      "name": "python3",
      "language": "python",
      "display_name": "Python 3 (ipykernel)"
    }
  },
  "nbformat": 4,
  "nbformat_minor": 5
}